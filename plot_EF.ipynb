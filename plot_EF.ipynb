{
 "cells": [
  {
   "cell_type": "code",
   "execution_count": 1,
   "metadata": {},
   "outputs": [],
   "source": [
    "import pandas as pd\n",
    "import numpy as np\n",
    "from tqdm import tqdm_notebook\n",
    "import time\n",
    "import matplotlib.pyplot as plt\n",
    "from gurobipy import *\n",
    "from math import sqrt"
   ]
  },
  {
   "cell_type": "code",
   "execution_count": 2,
   "metadata": {},
   "outputs": [],
   "source": [
    "# Load in return data files\n",
    "org_returns = pd.read_csv('org_returns.csv', index_col = 0)"
   ]
  },
  {
   "cell_type": "code",
   "execution_count": 3,
   "metadata": {},
   "outputs": [],
   "source": [
    "# Split returns data into training, validation and test sets\n",
    "org_train, org_validate, org_test = np.split(org_returns,\n",
    "                                             [int(.6*len(org_returns)), int(.8*len(org_returns))])"
   ]
  },
  {
   "cell_type": "code",
   "execution_count": 4,
   "metadata": {},
   "outputs": [],
   "source": [
    "# Clean nan values from data, drop index column and extract all relevant stocksymbols\n",
    "org_trainval_noindex = pd.concat([org_train, org_validate], axis = 0).drop('index', axis = 1).dropna(axis = 1, how = 'any')\n",
    "stocklist = org_trainval_noindex.columns\n",
    "\n",
    "# Calculate expected returns vector and covariance matrix\n",
    "stock_return = org_trainval_noindex.mean()\n",
    "return_cov = org_trainval_noindex.cov()"
   ]
  },
  {
   "cell_type": "code",
   "execution_count": 5,
   "metadata": {
    "scrolled": true
   },
   "outputs": [
    {
     "data": {
      "application/vnd.jupyter.widget-view+json": {
       "model_id": "2e086a5c36d9492f943c87f4e6aa4313",
       "version_major": 2,
       "version_minor": 0
      },
      "text/plain": [
       "HBox(children=(IntProgress(value=0, max=63), HTML(value='')))"
      ]
     },
     "metadata": {},
     "output_type": "display_data"
    },
    {
     "name": "stdout",
     "output_type": "stream",
     "text": [
      "Academic license - for non-commercial use only\n"
     ]
    }
   ],
   "source": [
    "# Initalise return and std lists to use for plotting\n",
    "return_list = []\n",
    "std_list = []\n",
    "\n",
    "# Get the desired range of standard deviations to use as maximum risk limit\n",
    "interval = np.arange(0.009, 0.0401, 0.0005)\n",
    "\n",
    "prev_return = 0\n",
    "for std in tqdm_notebook(interval):\n",
    "    time.sleep(0.25)\n",
    "        \n",
    "    # Create model\n",
    "    m = Model()\n",
    "    # Add weight variable for every stock\n",
    "    weight_vars = pd.Series(m.addVars(stocklist), index = stocklist)\n",
    "\n",
    "    # Calculate the portfolio varance and expected return based on the values of weight variables\n",
    "    portfolio_variance = return_cov.dot(weight_vars).dot(weight_vars)\n",
    "    portfolio_return = stock_return.dot(weight_vars)\n",
    "\n",
    "    # Set the objective function to maximise stock returns\n",
    "    m.setObjective(quicksum(stock_return[stock] * weight_vars[stock] for stock in stocklist), GRB.MAXIMIZE)\n",
    "\n",
    "    # Limit the porfolio variance at the squared maximum standard deviation\n",
    "    m.addConstr(portfolio_variance <= std * std)\n",
    "    # Make sure that entire budget is used to invest in portfolio\n",
    "    m.addConstr(weight_vars.sum() == 1, 'budget')\n",
    "\n",
    "    m.setParam('OutputFlag', 0)\n",
    "    m.update()\n",
    "    m.optimize()\n",
    "    \n",
    "    # Add portfolio returns and current standard deviation into seperate lists\n",
    "    current_return = portfolio_return.getValue()\n",
    "    return_list.append(current_return)\n",
    "    std_list.append(std)\n",
    "    \n",
    "    # Stop if the return does not change significantly\n",
    "    if current_return - prev_return < 0.0000001:\n",
    "        break\n",
    "    else:\n",
    "        prev_return = current_return"
   ]
  },
  {
   "cell_type": "code",
   "execution_count": 6,
   "metadata": {},
   "outputs": [
    {
     "data": {
      "image/png": "[encoded data removed]",
      "text/plain": [
       "<Figure size 432x288 with 1 Axes>"
      ]
     },
     "metadata": {},
     "output_type": "display_data"
    }
   ],
   "source": [
    "# Plot the efficient frontier for the training and validation set\n",
    "plt.plot(std_list, return_list) \n",
    "plt.xlabel('Standard Deviation')\n",
    "plt.ylabel('Expected Return')\n",
    "plt.show()"
   ]
  },
  {
   "cell_type": "markdown",
   "metadata": {},
   "source": [
    "This graph was used to determine the maximum standard deviation to use in the portfolio optimisation. The chosen value is 0.017 since it is the approximate value where the curve starts flattening out. In other words where the gain in expected returns does not increase as much with increased risk."
   ]
  }
 ],
 "metadata": {
  "kernelspec": {
   "display_name": "Python 3",
   "language": "python",
   "name": "python3"
  },
  "language_info": {
   "codemirror_mode": {
    "name": "ipython",
    "version": 3
   },
   "file_extension": ".py",
   "mimetype": "text/x-python",
   "name": "python",
   "nbconvert_exporter": "python",
   "pygments_lexer": "ipython3",
   "version": "3.6.5"
  }
 },
 "nbformat": 4,
 "nbformat_minor": 2
}
