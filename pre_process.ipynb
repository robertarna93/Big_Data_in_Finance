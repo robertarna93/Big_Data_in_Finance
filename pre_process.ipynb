{
 "cells": [
  {
   "cell_type": "code",
   "execution_count": 12,
   "metadata": {},
   "outputs": [],
   "source": [
    "import pandas as pd\n",
    "import numpy as np\n",
    "import datetime as dt\n",
    "import pandas_datareader.data as web\n",
    "import quandl\n",
    "from tqdm import tqdm_notebook\n",
    "import time\n",
    "import io\n",
    "import requests\n",
    "%config IPCompleter.greedy=True"
   ]
  },
  {
   "cell_type": "code",
   "execution_count": 2,
   "metadata": {},
   "outputs": [],
   "source": [
    "# Extract the list of S&P 500 companies from Wikipedia\n",
    "symbols_table = pd.read_html(\"https://en.wikipedia.org/wiki/List_of_S%26P_500_companies\", header=0)[0]"
   ]
  },
  {
   "cell_type": "code",
   "execution_count": 3,
   "metadata": {},
   "outputs": [
    {
     "data": {
      "application/vnd.jupyter.widget-view+json": {
       "model_id": "38b79bff719544249e9d7f45aa27626e",
       "version_major": 2,
       "version_minor": 0
      },
      "text/plain": [
       "HBox(children=(IntProgress(value=0, max=505), HTML(value='')))"
      ]
     },
     "metadata": {},
     "output_type": "display_data"
    },
    {
     "name": "stdout",
     "output_type": "stream",
     "text": [
      "\n"
     ]
    }
   ],
   "source": [
    "# Extract the list of symbols to use for iex\n",
    "symbols = list(symbols_table['Symbol'])\n",
    "\n",
    "#set the time frame to fetch iex stock data\n",
    "start = dt.datetime(2013, 4, 20)\n",
    "end = dt.datetime(2019, 4, 19)\n",
    "\n",
    "iex_data = pd.DataFrame()\n",
    "# Get stockdata using pandas_datareader and combine in a single dataframe\n",
    "for stock in tqdm_notebook(symbols):\n",
    "    # Initialise the timer\n",
    "    time.sleep(0.25)\n",
    "    # Extract stock data and stack it in a single dataframe\n",
    "    temp_data = web.DataReader(stock, \"iex\", start, end)\n",
    "    temp_data['symbol'] = stock\n",
    "    iex_data = pd.concat([iex_data, temp_data])\n",
    "\n",
    "# Save the data as a csv file for future use\n",
    "iex_data.to_csv('iex_data.csv')"
   ]
  },
  {
   "cell_type": "code",
   "execution_count": 112,
   "metadata": {},
   "outputs": [
    {
     "data": {
      "application/vnd.jupyter.widget-view+json": {
       "model_id": "6dedd96ff0004996bb53e79d0a31fd59",
       "version_major": 2,
       "version_minor": 0
      },
      "text/plain": [
       "HBox(children=(IntProgress(value=0, max=505), HTML(value='')))"
      ]
     },
     "metadata": {},
     "output_type": "display_data"
    }
   ],
   "source": [
    "# Extract the list of symbols to use for tiingo\n",
    "symbols = list(symbols_table['Symbol'])\n",
    "\n",
    "#set the time frame to fetch tiingo stock data\n",
    "start = dt.datetime(2009, 4, 19)\n",
    "end = dt.datetime(2019, 4, 19)\n",
    "apikey = 'd0d2f9e1d277fcb6a24269b60d736f72c928a223'\n",
    "\n",
    "tiingo_data = pd.DataFrame()\n",
    "# Get stockdata using pandas_datareader and combine in a single dataframe\n",
    "for stock in tqdm_notebook(symbols):\n",
    "    # Initialise the timer\n",
    "    time.sleep(0.25)\n",
    "    if '.' in stock:\n",
    "        stock = stock.replace('.', '-')\n",
    "    # Extract stock data and stack it in a single dataframe\n",
    "    temp_data = web.get_data_tiingo(stock, start, end, api_key = apikey)\n",
    "    temp_data.reset_index(inplace=True)\n",
    "    tiingo_data = pd.concat([tiingo_data, temp_data])\n",
    "\n",
    "# Save the data as a csv file for future use\n",
    "tiingo_data.to_csv('tiingo_data.csv')"
   ]
  },
  {
   "cell_type": "code",
   "execution_count": 51,
   "metadata": {},
   "outputs": [
    {
     "data": {
      "application/vnd.jupyter.widget-view+json": {
       "model_id": "0c7dc4a8a02048029e4ad3adff95d39d",
       "version_major": 2,
       "version_minor": 0
      },
      "text/plain": [
       "HBox(children=(IntProgress(value=0, max=483), HTML(value='')))"
      ]
     },
     "metadata": {},
     "output_type": "display_data"
    },
    {
     "name": "stdout",
     "output_type": "stream",
     "text": [
      "Had to skip stock:CPRI\n",
      "Had to skip stock:JEF\n",
      "Had to skip stock:LIN\n",
      "Had to skip stock:RHT\n"
     ]
    }
   ],
   "source": [
    "# Extract the list of symbols to use for quandl, limited because of some empty datasets\n",
    "symbols = list(symbols_table[symbols_table['Date first added'].isnull() |\n",
    "             (pd.to_datetime(symbols_table['Date first added']) < dt.datetime(2018, 3, 27))]['Symbol'])\n",
    "\n",
    "#set the time frame to fetch quandl stock data\n",
    "start = dt.datetime(2008, 3, 27)\n",
    "end = dt.datetime(2019, 4, 19)\n",
    "apikey='D9qsQxNxssmZNUxY5bBB'\n",
    "\n",
    "quandl_data_1 = pd.DataFrame()\n",
    "# Get stockdata using pandas_datareader and combine in a single dataframe\n",
    "for stock in tqdm_notebook(symbols):\n",
    "    # Initialise the timer\n",
    "    time.sleep(0.25)\n",
    "    # Extract stock data and stack it in a single dataframe\n",
    "    if '.' in stock:\n",
    "        stock = stock.replace('.', '_')\n",
    "        temp_content = requests.get(f'https://www.quandl.com/api/v3/datasets/WIKI/{stock}.csv?start_date={start}&end_date={end}&order=asc&api_key={apikey}').content\n",
    "        temp_data = pd.read_csv(io.StringIO(temp_content.decode('utf-8')))\n",
    "        temp_data['symbol'] = stock\n",
    "    elif stock == 'CPRI' or stock == 'JEF'  or stock == 'LIN'  or stock == 'RHT':\n",
    "        print('Had to skip stock:' + stock)\n",
    "    else:\n",
    "        temp_data = web.DataReader(stock, \"quandl\", start, end, access_key = apikey)\n",
    "        temp_data['symbol'] = stock\n",
    "        quandl_data_1 = pd.concat([quandl_data_1, temp_data])\n",
    "\n",
    "# Save the data as a csv file for future use\n",
    "quandl_data_1.to_csv('quandl_data_1.csv')"
   ]
  },
  {
   "cell_type": "code",
   "execution_count": 82,
   "metadata": {},
   "outputs": [],
   "source": [
    "# This is another method that uses quandl built in python module\n",
    "\n",
    "# Extract the list of symbols to use for quandl, limited because of some empty datasets\n",
    "symbols = list(symbols_table[symbols_table['Date first added'].isnull() |\n",
    "             (pd.to_datetime(symbols_table['Date first added']) < dt.datetime(2018, 3, 27))]['Symbol'])\n",
    "symbols = [w.replace('.', '_') for w in symbols]\n",
    "symbols_part1 = symbols[:240]\n",
    "symbols_part2 = symbols[240:]\n",
    "\n",
    "#set the time frame to fetch quandl stock data\n",
    "start = '2008-3-27'\n",
    "end = '2019-4-19'\n",
    "\n",
    "# Get stockdata using pandas_datareader and combine in a single dataframe\n",
    "quandl.ApiConfig.api_key = 'D9qsQxNxssmZNUxY5bBB'\n",
    "quandl_data_2 = quandl.get_table('WIKI/PRICES', ticker = symbols_part1,\n",
    "                        date = { 'gte': start, 'lte': end }, paginate=True)\n",
    "\n",
    "quandl_temp = quandl.get_table('WIKI/PRICES', ticker = symbols_part2,\n",
    "                        date = { 'gte': start, 'lte': end }, paginate=True)\n",
    "\n",
    "quandl_data_2 = pd.concat([quandl_data_2, quandl_temp])\n",
    "\n",
    "# Save the data as a csv file for future use\n",
    "quandl_data_2.to_csv('quandl_data_2.csv')"
   ]
  },
  {
   "cell_type": "code",
   "execution_count": null,
   "metadata": {},
   "outputs": [],
   "source": [
    "# Reload the data straight from CSV if needed\n",
    "iex_data = pd.read_csv('iex_data.csv')\n",
    "quandl_data_1 = pd.read_csv('quandl_data_1.csv')\n",
    "quandl_data_2 = pd.read_csv('quandl_data_2.csv')\n",
    "tiingo_data = pd.read_csv('tiingo_data.csv')"
   ]
  },
  {
   "cell_type": "markdown",
   "metadata": {},
   "source": [
    "Rest of this notebook will only work with tiingo_data, since it is the most recent, complete and reliable datasource that I was able to obtain. The processed return data frames are the used for all future project predictions and testing."
   ]
  },
  {
   "cell_type": "code",
   "execution_count": 113,
   "metadata": {},
   "outputs": [
    {
     "data": {
      "text/html": [
       "<div>\n",
       "<style scoped>\n",
       "    .dataframe tbody tr th:only-of-type {\n",
       "        vertical-align: middle;\n",
       "    }\n",
       "\n",
       "    .dataframe tbody tr th {\n",
       "        vertical-align: top;\n",
       "    }\n",
       "\n",
       "    .dataframe thead th {\n",
       "        text-align: right;\n",
       "    }\n",
       "</style>\n",
       "<table border=\"1\" class=\"dataframe\">\n",
       "  <thead>\n",
       "    <tr style=\"text-align: right;\">\n",
       "      <th></th>\n",
       "      <th>symbol</th>\n",
       "      <th>date</th>\n",
       "      <th>adjClose</th>\n",
       "      <th>adjHigh</th>\n",
       "      <th>adjLow</th>\n",
       "      <th>adjOpen</th>\n",
       "      <th>adjVolume</th>\n",
       "      <th>close</th>\n",
       "      <th>divCash</th>\n",
       "      <th>high</th>\n",
       "      <th>low</th>\n",
       "      <th>open</th>\n",
       "      <th>splitFactor</th>\n",
       "      <th>volume</th>\n",
       "    </tr>\n",
       "  </thead>\n",
       "  <tbody>\n",
       "    <tr>\n",
       "      <th>0</th>\n",
       "      <td>MMM</td>\n",
       "      <td>2009-04-20</td>\n",
       "      <td>40.270745</td>\n",
       "      <td>41.456319</td>\n",
       "      <td>40.007285</td>\n",
       "      <td>41.371081</td>\n",
       "      <td>4697100</td>\n",
       "      <td>51.97</td>\n",
       "      <td>0.0</td>\n",
       "      <td>53.50</td>\n",
       "      <td>51.63</td>\n",
       "      <td>53.39</td>\n",
       "      <td>1.0</td>\n",
       "      <td>4697100</td>\n",
       "    </tr>\n",
       "    <tr>\n",
       "      <th>1</th>\n",
       "      <td>MMM</td>\n",
       "      <td>2009-04-21</td>\n",
       "      <td>41.293593</td>\n",
       "      <td>41.417574</td>\n",
       "      <td>40.293992</td>\n",
       "      <td>40.495462</td>\n",
       "      <td>5059100</td>\n",
       "      <td>53.29</td>\n",
       "      <td>0.0</td>\n",
       "      <td>53.45</td>\n",
       "      <td>52.00</td>\n",
       "      <td>52.26</td>\n",
       "      <td>1.0</td>\n",
       "      <td>5059100</td>\n",
       "    </tr>\n",
       "    <tr>\n",
       "      <th>2</th>\n",
       "      <td>MMM</td>\n",
       "      <td>2009-04-22</td>\n",
       "      <td>41.115369</td>\n",
       "      <td>42.114970</td>\n",
       "      <td>40.487713</td>\n",
       "      <td>40.774420</td>\n",
       "      <td>5893700</td>\n",
       "      <td>53.06</td>\n",
       "      <td>0.0</td>\n",
       "      <td>54.35</td>\n",
       "      <td>52.25</td>\n",
       "      <td>52.62</td>\n",
       "      <td>1.0</td>\n",
       "      <td>5893700</td>\n",
       "    </tr>\n",
       "    <tr>\n",
       "      <th>3</th>\n",
       "      <td>MMM</td>\n",
       "      <td>2009-04-23</td>\n",
       "      <td>42.006487</td>\n",
       "      <td>42.099473</td>\n",
       "      <td>40.456718</td>\n",
       "      <td>41.254849</td>\n",
       "      <td>6210900</td>\n",
       "      <td>54.21</td>\n",
       "      <td>0.0</td>\n",
       "      <td>54.33</td>\n",
       "      <td>52.21</td>\n",
       "      <td>53.24</td>\n",
       "      <td>1.0</td>\n",
       "      <td>6210900</td>\n",
       "    </tr>\n",
       "    <tr>\n",
       "      <th>4</th>\n",
       "      <td>MMM</td>\n",
       "      <td>2009-04-24</td>\n",
       "      <td>44.168414</td>\n",
       "      <td>44.183912</td>\n",
       "      <td>41.642291</td>\n",
       "      <td>42.045231</td>\n",
       "      <td>11541000</td>\n",
       "      <td>57.00</td>\n",
       "      <td>0.0</td>\n",
       "      <td>57.02</td>\n",
       "      <td>53.74</td>\n",
       "      <td>54.26</td>\n",
       "      <td>1.0</td>\n",
       "      <td>11541000</td>\n",
       "    </tr>\n",
       "  </tbody>\n",
       "</table>\n",
       "</div>"
      ],
      "text/plain": [
       "  symbol       date   adjClose    adjHigh     adjLow    adjOpen  adjVolume  \\\n",
       "0    MMM 2009-04-20  40.270745  41.456319  40.007285  41.371081    4697100   \n",
       "1    MMM 2009-04-21  41.293593  41.417574  40.293992  40.495462    5059100   \n",
       "2    MMM 2009-04-22  41.115369  42.114970  40.487713  40.774420    5893700   \n",
       "3    MMM 2009-04-23  42.006487  42.099473  40.456718  41.254849    6210900   \n",
       "4    MMM 2009-04-24  44.168414  44.183912  41.642291  42.045231   11541000   \n",
       "\n",
       "   close  divCash   high    low   open  splitFactor    volume  \n",
       "0  51.97      0.0  53.50  51.63  53.39          1.0   4697100  \n",
       "1  53.29      0.0  53.45  52.00  52.26          1.0   5059100  \n",
       "2  53.06      0.0  54.35  52.25  52.62          1.0   5893700  \n",
       "3  54.21      0.0  54.33  52.21  53.24          1.0   6210900  \n",
       "4  57.00      0.0  57.02  53.74  54.26          1.0  11541000  "
      ]
     },
     "execution_count": 113,
     "metadata": {},
     "output_type": "execute_result"
    }
   ],
   "source": [
    "tiingo_data.head()"
   ]
  },
  {
   "cell_type": "code",
   "execution_count": 119,
   "metadata": {},
   "outputs": [],
   "source": [
    "# Get list of all stocks\n",
    "org_stocklist = tiingo_data['symbol'].unique()\n",
    "\n",
    "# Get list of stocks with data in all time periods\n",
    "filled_limit = max(tiingo_data['symbol'].value_counts())\n",
    "lim_stocklist = tiingo_data.groupby(\"symbol\").filter(lambda x: len(x) == full_limit)['symbol'].unique()"
   ]
  },
  {
   "cell_type": "code",
   "execution_count": 126,
   "metadata": {},
   "outputs": [],
   "source": [
    "org_returns = pd.DataFrame()\n",
    "\n",
    "for stock in org_stocklist:\n",
    "    current = tiingo_data[tiingo_data['symbol'] == stock].sort_values('date')\n",
    "    current['prev_adjClose'] = current['adjClose'].shift(1)\n",
    "    current[stock] = (current['adjClose'] - current['prev_adjClose']) / current['prev_adjClose']\n",
    "    current = current.set_index('date')[stock]\n",
    "    \n",
    "    org_returns = org_returns.join(current.to_frame(), how='outer')\n",
    "org_returns = org_returns[1:]\n",
    "org_returns['index'] = org_returns.mean(axis=1)\n",
    "\n",
    "org_returns.to_csv('org_returns.csv')"
   ]
  },
  {
   "cell_type": "code",
   "execution_count": 127,
   "metadata": {},
   "outputs": [],
   "source": [
    "lim_returns = pd.DataFrame()\n",
    "\n",
    "for stock in lim_stocklist:\n",
    "    current = tiingo_data[tiingo_data['symbol'] == stock].sort_values('date')\n",
    "    current['prev_adjClose'] = current['adjClose'].shift(1)\n",
    "    current[stock] = (current['adjClose'] - current['prev_adjClose']) / current['prev_adjClose']\n",
    "    current = current.set_index('date')[stock]\n",
    "    \n",
    "    lim_returns = lim_returns.join(current.to_frame(), how='outer')\n",
    "lim_returns = lim_returns[1:]\n",
    "lim_returns['index'] = lim_returns.mean(axis=1)\n",
    "\n",
    "lim_returns.to_csv('lim_returns.csv')"
   ]
  }
 ],
 "metadata": {
  "kernelspec": {
   "display_name": "Python 3",
   "language": "python",
   "name": "python3"
  },
  "language_info": {
   "codemirror_mode": {
    "name": "ipython",
    "version": 3
   },
   "file_extension": ".py",
   "mimetype": "text/x-python",
   "name": "python",
   "nbconvert_exporter": "python",
   "pygments_lexer": "ipython3",
   "version": "3.6.5"
  }
 },
 "nbformat": 4,
 "nbformat_minor": 2
}
